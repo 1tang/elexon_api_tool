{
 "cells": [
  {
   "cell_type": "markdown",
   "metadata": {},
   "source": [
    "# Elexon API\n",
    "\n",
    "API documentation [here](https://www.elexon.co.uk/wp-content/uploads/2017/06/bmrs_api_data_push_user_guide_v1.1.pdf)"
   ]
  },
  {
   "cell_type": "code",
   "execution_count": 1,
   "metadata": {},
   "outputs": [],
   "source": [
    "from elexon_api import Client, query\n",
    "from elexon_api import get_required_parameters\n",
    "from elexon_api import extract_df\n",
    "import pandas as pd"
   ]
  },
  {
   "cell_type": "markdown",
   "metadata": {},
   "source": [
    "### intialize client"
   ]
  },
  {
   "cell_type": "code",
   "execution_count": 2,
   "metadata": {},
   "outputs": [],
   "source": [
    "client = Client.from_key_file()"
   ]
  },
  {
   "cell_type": "markdown",
   "metadata": {},
   "source": [
    "### choose a service"
   ]
  },
  {
   "cell_type": "code",
   "execution_count": 3,
   "metadata": {},
   "outputs": [],
   "source": [
    "service_code = 'B1760'"
   ]
  },
  {
   "cell_type": "markdown",
   "metadata": {},
   "source": [
    "### check which parameters are required"
   ]
  },
  {
   "cell_type": "code",
   "execution_count": 4,
   "metadata": {},
   "outputs": [
    {
     "data": {
      "text/plain": [
       "['APIKey', 'SettlementDate', 'Period']"
      ]
     },
     "execution_count": 4,
     "metadata": {},
     "output_type": "execute_result"
    }
   ],
   "source": [
    "get_required_parameters(service_code)"
   ]
  },
  {
   "cell_type": "code",
   "execution_count": 5,
   "metadata": {},
   "outputs": [
    {
     "data": {
      "text/html": [
       "<div>\n",
       "<style scoped>\n",
       "    .dataframe tbody tr th:only-of-type {\n",
       "        vertical-align: middle;\n",
       "    }\n",
       "\n",
       "    .dataframe tbody tr th {\n",
       "        vertical-align: top;\n",
       "    }\n",
       "\n",
       "    .dataframe thead th {\n",
       "        text-align: right;\n",
       "    }\n",
       "</style>\n",
       "<table border=\"1\" class=\"dataframe\">\n",
       "  <thead>\n",
       "    <tr style=\"text-align: right;\">\n",
       "      <th></th>\n",
       "      <th>timeSeriesID</th>\n",
       "      <th>businessType</th>\n",
       "      <th>controlArea</th>\n",
       "      <th>powerSystemResourceType</th>\n",
       "      <th>flowDirection</th>\n",
       "      <th>settlementDate</th>\n",
       "      <th>settlementPeriod</th>\n",
       "      <th>activationPriceAmount</th>\n",
       "      <th>docStatus</th>\n",
       "      <th>curveType</th>\n",
       "      <th>resolution</th>\n",
       "      <th>documentType</th>\n",
       "      <th>processType</th>\n",
       "      <th>activeFlag</th>\n",
       "      <th>documentID</th>\n",
       "      <th>documentRevNum</th>\n",
       "    </tr>\n",
       "  </thead>\n",
       "  <tbody>\n",
       "    <tr>\n",
       "      <th>0</th>\n",
       "      <td>NGET-EMFIP-PABE-TS-00647700</td>\n",
       "      <td>Frequency containment reserve</td>\n",
       "      <td>10YGB----------A</td>\n",
       "      <td>Generation</td>\n",
       "      <td>UP</td>\n",
       "      <td>2019-06-15</td>\n",
       "      <td>1</td>\n",
       "      <td>0</td>\n",
       "      <td>Final</td>\n",
       "      <td>Sequential fixed size block</td>\n",
       "      <td>PT30M</td>\n",
       "      <td>Activated balancing prices</td>\n",
       "      <td>Realised</td>\n",
       "      <td>Y</td>\n",
       "      <td>NGET-EMFIP-PABE-00082022</td>\n",
       "      <td>1</td>\n",
       "    </tr>\n",
       "    <tr>\n",
       "      <th>1</th>\n",
       "      <td>NGET-EMFIP-PABE-TS-00647701</td>\n",
       "      <td>Frequency containment reserve</td>\n",
       "      <td>10YGB----------A</td>\n",
       "      <td>Load</td>\n",
       "      <td>DOWN</td>\n",
       "      <td>2019-06-15</td>\n",
       "      <td>1</td>\n",
       "      <td>0</td>\n",
       "      <td>Final</td>\n",
       "      <td>Sequential fixed size block</td>\n",
       "      <td>PT30M</td>\n",
       "      <td>Activated balancing prices</td>\n",
       "      <td>Realised</td>\n",
       "      <td>Y</td>\n",
       "      <td>NGET-EMFIP-PABE-00082022</td>\n",
       "      <td>1</td>\n",
       "    </tr>\n",
       "    <tr>\n",
       "      <th>2</th>\n",
       "      <td>NGET-EMFIP-PABE-TS-00647702</td>\n",
       "      <td>Automatic frequency restoration reserve</td>\n",
       "      <td>10YGB----------A</td>\n",
       "      <td>Generation</td>\n",
       "      <td>UP</td>\n",
       "      <td>2019-06-15</td>\n",
       "      <td>1</td>\n",
       "      <td>0</td>\n",
       "      <td>Final</td>\n",
       "      <td>Sequential fixed size block</td>\n",
       "      <td>PT30M</td>\n",
       "      <td>Activated balancing prices</td>\n",
       "      <td>Realised</td>\n",
       "      <td>Y</td>\n",
       "      <td>NGET-EMFIP-PABE-00082022</td>\n",
       "      <td>1</td>\n",
       "    </tr>\n",
       "    <tr>\n",
       "      <th>3</th>\n",
       "      <td>NGET-EMFIP-PABE-TS-00647703</td>\n",
       "      <td>Automatic frequency restoration reserve</td>\n",
       "      <td>10YGB----------A</td>\n",
       "      <td>Load</td>\n",
       "      <td>DOWN</td>\n",
       "      <td>2019-06-15</td>\n",
       "      <td>1</td>\n",
       "      <td>0</td>\n",
       "      <td>Final</td>\n",
       "      <td>Sequential fixed size block</td>\n",
       "      <td>PT30M</td>\n",
       "      <td>Activated balancing prices</td>\n",
       "      <td>Realised</td>\n",
       "      <td>Y</td>\n",
       "      <td>NGET-EMFIP-PABE-00082022</td>\n",
       "      <td>1</td>\n",
       "    </tr>\n",
       "    <tr>\n",
       "      <th>4</th>\n",
       "      <td>NGET-EMFIP-PABE-TS-00647704</td>\n",
       "      <td>Manual frequency restoration reserve</td>\n",
       "      <td>10YGB----------A</td>\n",
       "      <td>Load</td>\n",
       "      <td>DOWN</td>\n",
       "      <td>2019-06-15</td>\n",
       "      <td>1</td>\n",
       "      <td>0</td>\n",
       "      <td>Final</td>\n",
       "      <td>Sequential fixed size block</td>\n",
       "      <td>PT30M</td>\n",
       "      <td>Activated balancing prices</td>\n",
       "      <td>Realised</td>\n",
       "      <td>Y</td>\n",
       "      <td>NGET-EMFIP-PABE-00082022</td>\n",
       "      <td>1</td>\n",
       "    </tr>\n",
       "  </tbody>\n",
       "</table>\n",
       "</div>"
      ],
      "text/plain": [
       "                  timeSeriesID                             businessType  \\\n",
       "0  NGET-EMFIP-PABE-TS-00647700            Frequency containment reserve   \n",
       "1  NGET-EMFIP-PABE-TS-00647701            Frequency containment reserve   \n",
       "2  NGET-EMFIP-PABE-TS-00647702  Automatic frequency restoration reserve   \n",
       "3  NGET-EMFIP-PABE-TS-00647703  Automatic frequency restoration reserve   \n",
       "4  NGET-EMFIP-PABE-TS-00647704     Manual frequency restoration reserve   \n",
       "\n",
       "        controlArea powerSystemResourceType flowDirection settlementDate  \\\n",
       "0  10YGB----------A              Generation            UP     2019-06-15   \n",
       "1  10YGB----------A                    Load          DOWN     2019-06-15   \n",
       "2  10YGB----------A              Generation            UP     2019-06-15   \n",
       "3  10YGB----------A                    Load          DOWN     2019-06-15   \n",
       "4  10YGB----------A                    Load          DOWN     2019-06-15   \n",
       "\n",
       "  settlementPeriod activationPriceAmount docStatus  \\\n",
       "0                1                     0     Final   \n",
       "1                1                     0     Final   \n",
       "2                1                     0     Final   \n",
       "3                1                     0     Final   \n",
       "4                1                     0     Final   \n",
       "\n",
       "                     curveType resolution                documentType  \\\n",
       "0  Sequential fixed size block      PT30M  Activated balancing prices   \n",
       "1  Sequential fixed size block      PT30M  Activated balancing prices   \n",
       "2  Sequential fixed size block      PT30M  Activated balancing prices   \n",
       "3  Sequential fixed size block      PT30M  Activated balancing prices   \n",
       "4  Sequential fixed size block      PT30M  Activated balancing prices   \n",
       "\n",
       "  processType activeFlag                documentID documentRevNum  \n",
       "0    Realised          Y  NGET-EMFIP-PABE-00082022              1  \n",
       "1    Realised          Y  NGET-EMFIP-PABE-00082022              1  \n",
       "2    Realised          Y  NGET-EMFIP-PABE-00082022              1  \n",
       "3    Realised          Y  NGET-EMFIP-PABE-00082022              1  \n",
       "4    Realised          Y  NGET-EMFIP-PABE-00082022              1  "
      ]
     },
     "execution_count": 5,
     "metadata": {},
     "output_type": "execute_result"
    }
   ],
   "source": [
    "params = {'SettlementDate': pd.datetime(2019,6,15),\n",
    "          'Period': 1}\n",
    "\n",
    "r_dict = query(client, service_code, **params, check_response=False)\n",
    "df = extract_df(r_dict)\n",
    "df.head()"
   ]
  },
  {
   "cell_type": "code",
   "execution_count": 6,
   "metadata": {},
   "outputs": [
    {
     "data": {
      "text/html": [
       "<div>\n",
       "<style scoped>\n",
       "    .dataframe tbody tr th:only-of-type {\n",
       "        vertical-align: middle;\n",
       "    }\n",
       "\n",
       "    .dataframe tbody tr th {\n",
       "        vertical-align: top;\n",
       "    }\n",
       "\n",
       "    .dataframe thead th {\n",
       "        text-align: right;\n",
       "    }\n",
       "</style>\n",
       "<table border=\"1\" class=\"dataframe\">\n",
       "  <thead>\n",
       "    <tr style=\"text-align: right;\">\n",
       "      <th></th>\n",
       "      <th>documentType</th>\n",
       "      <th>businessType</th>\n",
       "      <th>processType</th>\n",
       "      <th>timeSeriesID</th>\n",
       "      <th>quantity</th>\n",
       "      <th>curveType</th>\n",
       "      <th>resolution</th>\n",
       "      <th>settlementDate</th>\n",
       "      <th>settelmentPeriod</th>\n",
       "      <th>activeFlag</th>\n",
       "      <th>documentID</th>\n",
       "      <th>documentRevNum</th>\n",
       "    </tr>\n",
       "  </thead>\n",
       "  <tbody>\n",
       "    <tr>\n",
       "      <th>0</th>\n",
       "      <td>Generation forecast</td>\n",
       "      <td>Production</td>\n",
       "      <td>Day Ahead</td>\n",
       "      <td>NGET-EMFIP-DAG-TS-00032041</td>\n",
       "      <td>978</td>\n",
       "      <td>Sequential fixed size block</td>\n",
       "      <td>PT30M</td>\n",
       "      <td>2019-06-15</td>\n",
       "      <td>1</td>\n",
       "      <td>Y</td>\n",
       "      <td>NGET-EMFIP-DAG-00031721</td>\n",
       "      <td>1</td>\n",
       "    </tr>\n",
       "  </tbody>\n",
       "</table>\n",
       "</div>"
      ],
      "text/plain": [
       "          documentType businessType processType                timeSeriesID  \\\n",
       "0  Generation forecast   Production   Day Ahead  NGET-EMFIP-DAG-TS-00032041   \n",
       "\n",
       "  quantity                    curveType resolution settlementDate  \\\n",
       "0      978  Sequential fixed size block      PT30M     2019-06-15   \n",
       "\n",
       "  settelmentPeriod activeFlag               documentID documentRevNum  \n",
       "0                1          Y  NGET-EMFIP-DAG-00031721              1  "
      ]
     },
     "execution_count": 6,
     "metadata": {},
     "output_type": "execute_result"
    }
   ],
   "source": [
    "r_dict = query(client, 'B1430', **params)\n",
    "df = extract_df(r_dict)\n",
    "df.head()"
   ]
  }
 ],
 "metadata": {
  "kernelspec": {
   "display_name": "scraping (3.7)",
   "language": "python",
   "name": "scraping"
  },
  "language_info": {
   "codemirror_mode": {
    "name": "ipython",
    "version": 3
   },
   "file_extension": ".py",
   "mimetype": "text/x-python",
   "name": "python",
   "nbconvert_exporter": "python",
   "pygments_lexer": "ipython3",
   "version": "3.7.4"
  }
 },
 "nbformat": 4,
 "nbformat_minor": 4
}
