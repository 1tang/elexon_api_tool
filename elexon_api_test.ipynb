{
 "cells": [
  {
   "cell_type": "markdown",
   "metadata": {},
   "source": [
    "# Elexon API\n",
    "\n",
    "First iteration.\n",
    "See API documentation [here](https://www.elexon.co.uk/wp-content/uploads/2017/06/bmrs_api_data_push_user_guide_v1.1.pdf).\n",
    "\n",
    "### Dependencies\n",
    "\n",
    "* `pandas`\n",
    "\n",
    "### How To Use\n",
    "\n",
    "* store your API key in `api_key.txt`\n",
    "* set the start and end date\n",
    "* set the signal key (see attached csv file)\n",
    "* enjoy"
   ]
  },
  {
   "cell_type": "code",
   "execution_count": 1,
   "metadata": {
    "collapsed": true
   },
   "outputs": [],
   "source": [
    "import pandas as pd\n",
    "import elexon_client"
   ]
  },
  {
   "cell_type": "markdown",
   "metadata": {},
   "source": [
    "### Single day"
   ]
  },
  {
   "cell_type": "code",
   "execution_count": 2,
   "metadata": {},
   "outputs": [],
   "source": [
    "signal_key = 'B1760'\n",
    "settlement_date = pd.datetime(2017,1,1)"
   ]
  },
  {
   "cell_type": "code",
   "execution_count": 3,
   "metadata": {},
   "outputs": [
    {
     "data": {
      "text/html": [
       "<div>\n",
       "<style scoped>\n",
       "    .dataframe tbody tr th:only-of-type {\n",
       "        vertical-align: middle;\n",
       "    }\n",
       "\n",
       "    .dataframe tbody tr th {\n",
       "        vertical-align: top;\n",
       "    }\n",
       "\n",
       "    .dataframe thead th {\n",
       "        text-align: right;\n",
       "    }\n",
       "</style>\n",
       "<table border=\"1\" class=\"dataframe\">\n",
       "  <thead>\n",
       "    <tr style=\"text-align: right;\">\n",
       "      <th></th>\n",
       "      <th>Time Series ID</th>\n",
       "      <th>Business Type</th>\n",
       "      <th>Control Area</th>\n",
       "      <th>Power System Resource  Type</th>\n",
       "      <th>Flow Direction</th>\n",
       "      <th>Settlement Date</th>\n",
       "      <th>Settlement Period</th>\n",
       "      <th>Activation Price Amount(GBP)</th>\n",
       "      <th>Price Category</th>\n",
       "      <th>Doc Status</th>\n",
       "      <th>Curve Type</th>\n",
       "      <th>Resolution</th>\n",
       "      <th>Document Type</th>\n",
       "      <th>Process Type</th>\n",
       "      <th>Active Flag</th>\n",
       "      <th>Document ID</th>\n",
       "      <th>Document RevNum</th>\n",
       "    </tr>\n",
       "  </thead>\n",
       "  <tbody>\n",
       "    <tr>\n",
       "      <th>0</th>\n",
       "      <td>NGET-EMFIP-PABE-TS-00304590</td>\n",
       "      <td>Replacement reserve</td>\n",
       "      <td>10YGB----------A</td>\n",
       "      <td>Generation</td>\n",
       "      <td>UP</td>\n",
       "      <td>2017-01-01</td>\n",
       "      <td>48</td>\n",
       "      <td>0.0</td>\n",
       "      <td>NaN</td>\n",
       "      <td>Final</td>\n",
       "      <td>Sequential fixed size block</td>\n",
       "      <td>PT30M</td>\n",
       "      <td>Activated balancing prices</td>\n",
       "      <td>Realised</td>\n",
       "      <td>Y</td>\n",
       "      <td>NGET-EMFIP-PABE-00039021</td>\n",
       "      <td>1</td>\n",
       "    </tr>\n",
       "    <tr>\n",
       "      <th>1</th>\n",
       "      <td>NGET-EMFIP-PABE-TS-00304589</td>\n",
       "      <td>Replacement reserve</td>\n",
       "      <td>10YGB----------A</td>\n",
       "      <td>Load</td>\n",
       "      <td>DOWN</td>\n",
       "      <td>2017-01-01</td>\n",
       "      <td>48</td>\n",
       "      <td>0.0</td>\n",
       "      <td>NaN</td>\n",
       "      <td>Final</td>\n",
       "      <td>Sequential fixed size block</td>\n",
       "      <td>PT30M</td>\n",
       "      <td>Activated balancing prices</td>\n",
       "      <td>Realised</td>\n",
       "      <td>Y</td>\n",
       "      <td>NGET-EMFIP-PABE-00039021</td>\n",
       "      <td>1</td>\n",
       "    </tr>\n",
       "  </tbody>\n",
       "</table>\n",
       "</div>"
      ],
      "text/plain": [
       "                Time Series ID        Business Type      Control Area  \\\n",
       "0  NGET-EMFIP-PABE-TS-00304590  Replacement reserve  10YGB----------A   \n",
       "1  NGET-EMFIP-PABE-TS-00304589  Replacement reserve  10YGB----------A   \n",
       "\n",
       "  Power System Resource  Type Flow Direction Settlement Date  \\\n",
       "0                  Generation             UP      2017-01-01   \n",
       "1                        Load           DOWN      2017-01-01   \n",
       "\n",
       "   Settlement Period  Activation Price Amount(GBP)  Price Category Doc Status  \\\n",
       "0                 48                           0.0             NaN      Final   \n",
       "1                 48                           0.0             NaN      Final   \n",
       "\n",
       "                    Curve Type Resolution               Document Type  \\\n",
       "0  Sequential fixed size block      PT30M  Activated balancing prices   \n",
       "1  Sequential fixed size block      PT30M  Activated balancing prices   \n",
       "\n",
       "  Process Type Active Flag               Document ID  Document RevNum  \n",
       "0     Realised           Y  NGET-EMFIP-PABE-00039021                1  \n",
       "1     Realised           Y  NGET-EMFIP-PABE-00039021                1  "
      ]
     },
     "execution_count": 3,
     "metadata": {},
     "output_type": "execute_result"
    }
   ],
   "source": [
    "r = elexon_client.query_apy(signal_key, settlement_date)\n",
    "elexon_client.extract_csv_from_response(r).head(2)"
   ]
  },
  {
   "cell_type": "markdown",
   "metadata": {},
   "source": [
    "### Multiple days"
   ]
  },
  {
   "cell_type": "code",
   "execution_count": 4,
   "metadata": {
    "collapsed": true
   },
   "outputs": [],
   "source": [
    "signal_key = 'B1760'\n",
    "start = pd.datetime(2018, 1,15)\n",
    "end   = pd.datetime(2018, 1,18)"
   ]
  },
  {
   "cell_type": "code",
   "execution_count": 5,
   "metadata": {},
   "outputs": [
    {
     "data": {
      "text/html": [
       "<div>\n",
       "<style scoped>\n",
       "    .dataframe tbody tr th:only-of-type {\n",
       "        vertical-align: middle;\n",
       "    }\n",
       "\n",
       "    .dataframe tbody tr th {\n",
       "        vertical-align: top;\n",
       "    }\n",
       "\n",
       "    .dataframe thead th {\n",
       "        text-align: right;\n",
       "    }\n",
       "</style>\n",
       "<table border=\"1\" class=\"dataframe\">\n",
       "  <thead>\n",
       "    <tr style=\"text-align: right;\">\n",
       "      <th></th>\n",
       "      <th>Time Series ID</th>\n",
       "      <th>Business Type</th>\n",
       "      <th>Control Area</th>\n",
       "      <th>Power System Resource  Type</th>\n",
       "      <th>Flow Direction</th>\n",
       "      <th>Settlement Date</th>\n",
       "      <th>Settlement Period</th>\n",
       "      <th>Activation Price Amount(GBP)</th>\n",
       "      <th>Price Category</th>\n",
       "      <th>Doc Status</th>\n",
       "      <th>Curve Type</th>\n",
       "      <th>Resolution</th>\n",
       "      <th>Document Type</th>\n",
       "      <th>Process Type</th>\n",
       "      <th>Active Flag</th>\n",
       "      <th>Document ID</th>\n",
       "      <th>Document RevNum</th>\n",
       "    </tr>\n",
       "  </thead>\n",
       "  <tbody>\n",
       "    <tr>\n",
       "      <th>1534</th>\n",
       "      <td>NGET-EMFIP-PABE-TS-00450893</td>\n",
       "      <td>Frequency containment reserve</td>\n",
       "      <td>10YGB----------A</td>\n",
       "      <td>Load</td>\n",
       "      <td>DOWN</td>\n",
       "      <td>2018-01-18</td>\n",
       "      <td>1</td>\n",
       "      <td>628.05</td>\n",
       "      <td>NaN</td>\n",
       "      <td>Final</td>\n",
       "      <td>Sequential fixed size block</td>\n",
       "      <td>PT30M</td>\n",
       "      <td>Activated balancing prices</td>\n",
       "      <td>Realised</td>\n",
       "      <td>Y</td>\n",
       "      <td>NGET-EMFIP-PABE-00057334</td>\n",
       "      <td>1</td>\n",
       "    </tr>\n",
       "    <tr>\n",
       "      <th>1535</th>\n",
       "      <td>NGET-EMFIP-PABE-TS-00450892</td>\n",
       "      <td>Frequency containment reserve</td>\n",
       "      <td>10YGB----------A</td>\n",
       "      <td>Generation</td>\n",
       "      <td>UP</td>\n",
       "      <td>2018-01-18</td>\n",
       "      <td>1</td>\n",
       "      <td>528.96</td>\n",
       "      <td>NaN</td>\n",
       "      <td>Final</td>\n",
       "      <td>Sequential fixed size block</td>\n",
       "      <td>PT30M</td>\n",
       "      <td>Activated balancing prices</td>\n",
       "      <td>Realised</td>\n",
       "      <td>Y</td>\n",
       "      <td>NGET-EMFIP-PABE-00057334</td>\n",
       "      <td>1</td>\n",
       "    </tr>\n",
       "  </tbody>\n",
       "</table>\n",
       "</div>"
      ],
      "text/plain": [
       "                   Time Series ID                  Business Type  \\\n",
       "1534  NGET-EMFIP-PABE-TS-00450893  Frequency containment reserve   \n",
       "1535  NGET-EMFIP-PABE-TS-00450892  Frequency containment reserve   \n",
       "\n",
       "          Control Area Power System Resource  Type Flow Direction  \\\n",
       "1534  10YGB----------A                        Load           DOWN   \n",
       "1535  10YGB----------A                  Generation             UP   \n",
       "\n",
       "     Settlement Date  Settlement Period  Activation Price Amount(GBP)  \\\n",
       "1534      2018-01-18                  1                        628.05   \n",
       "1535      2018-01-18                  1                        528.96   \n",
       "\n",
       "      Price Category Doc Status                   Curve Type Resolution  \\\n",
       "1534             NaN      Final  Sequential fixed size block      PT30M   \n",
       "1535             NaN      Final  Sequential fixed size block      PT30M   \n",
       "\n",
       "                   Document Type Process Type Active Flag  \\\n",
       "1534  Activated balancing prices     Realised           Y   \n",
       "1535  Activated balancing prices     Realised           Y   \n",
       "\n",
       "                   Document ID  Document RevNum  \n",
       "1534  NGET-EMFIP-PABE-00057334                1  \n",
       "1535  NGET-EMFIP-PABE-00057334                1  "
      ]
     },
     "execution_count": 5,
     "metadata": {},
     "output_type": "execute_result"
    }
   ],
   "source": [
    "df = elexon_client.query_multiple_days(signal_key, start, end)\n",
    "df.tail(2)"
   ]
  }
 ],
 "metadata": {
  "kernelspec": {
   "display_name": "Python 3",
   "language": "python",
   "name": "python3"
  },
  "language_info": {
   "codemirror_mode": {
    "name": "ipython",
    "version": 3
   },
   "file_extension": ".py",
   "mimetype": "text/x-python",
   "name": "python",
   "nbconvert_exporter": "python",
   "pygments_lexer": "ipython3",
   "version": "3.6.5"
  }
 },
 "nbformat": 4,
 "nbformat_minor": 2
}
